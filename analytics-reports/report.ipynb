{
 "cells": [
  {
   "cell_type": "markdown",
   "metadata": {},
   "source": [
    "---\n",
    "format:\n",
    "  html:\n",
    "    page-layout: full\n",
    "    embed-resources: true\n",
    "    grid:\n",
    "      body-width: 1200px\n",
    "    fontsize: 18pt\n",
    "  pdf: default\n",
    "echo: false\n",
    "warning: false\n",
    "toc: true\n",
    "jupyter: python3\n",
    "---\n",
    "\n",
    "::: {.content-hidden}\n",
    "### Import necessary libraries & load data\n",
    ":::"
   ]
  },
  {
   "cell_type": "code",
   "execution_count": null,
   "metadata": {},
   "outputs": [],
   "source": [
    "import pandas as pd\n",
    "import numpy as np\n",
    "import matplotlib.pyplot as plt\n",
    "import seaborn as sns\n",
    "from pathlib import Path"
   ]
  },
  {
   "cell_type": "code",
   "execution_count": null,
   "metadata": {},
   "outputs": [],
   "source": [
    "file = Path(\"__file__\").parent / \"telco-customer-churn.csv\"\n",
    "df = pd.read_csv(file)\n",
    "\n",
    "# plt.style.use('seaborn-v0_8-talk')"
   ]
  },
  {
   "cell_type": "markdown",
   "metadata": {},
   "source": [
    "## Initial Data Exploration"
   ]
  },
  {
   "cell_type": "code",
   "execution_count": null,
   "metadata": {},
   "outputs": [],
   "source": [
    "#| output: false\n",
    "df.info()"
   ]
  },
  {
   "cell_type": "code",
   "execution_count": null,
   "metadata": {},
   "outputs": [],
   "source": [
    "import itables\n",
    "\n",
    "itables.show(df.head(50))"
   ]
  },
  {
   "cell_type": "markdown",
   "metadata": {},
   "source": [
    "### High-level overview of the data\n",
    "\n",
    "::: {layout-ncol=2}"
   ]
  },
  {
   "cell_type": "code",
   "execution_count": null,
   "metadata": {},
   "outputs": [],
   "source": [
    "churn = df['Churn'].value_counts()\n",
    "plt.title('Count of Customer Churn')\n",
    "plt.bar(churn.index, churn.values)\n",
    "plt.show()"
   ]
  },
  {
   "cell_type": "code",
   "execution_count": null,
   "metadata": {},
   "outputs": [],
   "source": [
    "pct_churn = df['Churn'].value_counts(normalize=True)\n",
    "plt.pie(pct_churn, labels=pct_churn.index, autopct='%1.1f%%')\n",
    "plt.show()"
   ]
  },
  {
   "cell_type": "markdown",
   "metadata": {},
   "source": [
    ":::\n",
    "\n",
    "## Understanding the data that causes churn\n",
    "\n",
    "### Numeric Features"
   ]
  },
  {
   "cell_type": "code",
   "execution_count": null,
   "metadata": {
    "fig-caption": "Distribution of numerical features",
    "width": "100%"
   },
   "outputs": [],
   "source": [
    "#| column: body-outset-left\n",
    "#| out-width: 100%\n",
    "#| fig-align: center\n",
    "numerical_features = ['tenure', 'MonthlyCharges', 'TotalCharges']\n",
    "fig, axes = plt.subplots(1, 3, figsize=(15, 5)) \n",
    "for i, feature in enumerate(numerical_features):\n",
    "    if feature == 'TotalCharges':\n",
    "        df[feature] = pd.to_numeric(df[feature], errors='coerce')  # Convert to numeric\n",
    "    sns.histplot(data=df, x=feature, hue='Churn', multiple=\"stack\", ax=axes[i])\n",
    "    axes[i].set_title(f'Distribution of {feature}')"
   ]
  },
  {
   "cell_type": "markdown",
   "metadata": {},
   "source": [
    "The most likely customers to churn are ones that have been with the company for a short period of time, and have higher monthly charges.\n",
    "\n",
    "The more money someone has spent with us, the less likely they are to churn.\n",
    "\n",
    "***\n",
    "\n",
    "### Categorical Features\n",
    "\n",
    "::::: {layout=\"[30, 70]\"}\n",
    "::: {#firstcolumn}\n",
    "\n",
    "In these bar charts we observe a few different insights\n",
    "\n",
    "- Gender has little to no impact on churn\n",
    "- Seniors are more likely to churn\n",
    "- Customers without partners or dependents are more likely to churn\n",
    "- Phone Service has little to no impact on churn\n",
    "- Customers with Fiber Optic Internet Service are significantly more likely to churn\n",
    "- Customers with Month-to-Month contracts are significantly more likely to churn\n",
    ":::\n",
    "::: {#secondcolumn}"
   ]
  },
  {
   "cell_type": "code",
   "execution_count": null,
   "metadata": {},
   "outputs": [],
   "source": [
    "categorical_features = ['gender', 'SeniorCitizen', 'Partner', 'Dependents', 'PhoneService', 'InternetService', 'Contract']\n",
    "fig, axes = plt.subplots(7, 1, figsize=(8, 20))\n",
    "axes = axes.flatten()\n",
    "\n",
    "plt.rcParams.update({'font.size': 12})  # Increase base font size\n",
    "\n",
    "for i, feature in enumerate(categorical_features):\n",
    "    # Calculate percentages\n",
    "    percentages = (df.groupby(feature)['Churn']\n",
    "                    .value_counts(normalize=True)\n",
    "                    .unstack()\n",
    "                    .mul(100))\n",
    "    \n",
    "    # Create horizontal stacked bars\n",
    "    percentages.plot(kind='barh', \n",
    "                    stacked=True,\n",
    "                    ax=axes[i],\n",
    "                    legend=False,\n",
    "                    width=0.6)  # Changed from height to width\n",
    "    \n",
    "    # Customize the plot\n",
    "    axes[i].set_title(f'Churn Distribution by {feature}', fontsize=14, pad=-30)\n",
    "    axes[i].set_ylabel(feature, fontsize=12)\n",
    "    \n",
    "    # Add percentage labels on the bars\n",
    "    for c in axes[i].containers:\n",
    "        axes[i].bar_label(c, fmt='%.1f%%', label_type='center', fontsize=11)\n",
    "    \n",
    "    # Remove x-axis percentage labels\n",
    "    axes[i].set_xticks([])\n",
    "    \n",
    "    # Add border around the subplot\n",
    "    for spine in axes[i].spines.values():\n",
    "        spine.set_visible(True)\n",
    "    \n",
    "    # Make tick labels larger\n",
    "    axes[i].tick_params(axis='both', which='major', labelsize=11)\n",
    "    \n",
    "    # Adjust plot to reduce white space\n",
    "    axes[i].margins(y=0.15)  # Reduce vertical margins\n",
    "\n",
    "# Remove empty subplots\n",
    "for j in range(i+1, len(axes)):\n",
    "    fig.delaxes(axes[j])\n",
    "\n",
    "plt.tight_layout()\n",
    "plt.show()"
   ]
  },
  {
   "cell_type": "markdown",
   "metadata": {},
   "source": [
    ":::\n",
    ":::::\n",
    "\n",
    "\n",
    "### Why might internet service matter?\n",
    "\n",
    "::: {layout=\"[70, 30]\"}"
   ]
  },
  {
   "cell_type": "code",
   "execution_count": null,
   "metadata": {},
   "outputs": [],
   "source": [
    "plt.figure(figsize=(10, 6))\n",
    "sns.scatterplot(data=df, x='MonthlyCharges', y='TotalCharges', hue='InternetService')\n",
    "plt.title('Scatter plot of Monthly Charges based on Internet Service type')\n",
    "plt.xlabel('Monthly Charges')\n",
    "plt.ylabel('Total Charges')\n",
    "plt.show()"
   ]
  },
  {
   "cell_type": "markdown",
   "metadata": {},
   "source": [
    "<br/>\n",
    "Customers with Fiber optic internet service have higher monthly charges. This could be a reason why they are more likely to churn.\n",
    "\n",
    ":::"
   ]
  },
  {
   "cell_type": "code",
   "execution_count": null,
   "metadata": {},
   "outputs": [],
   "source": [
    "#| output: false\n",
    "plt.figure(figsize=(10, 6))\n",
    "sns.scatterplot(data=df, x='Contract', y='MonthlyCharges', hue='Contract')\n",
    "plt.title('Scatter plot of Monthly Charges based on Contract type')\n",
    "plt.xlabel('Contract Type')\n",
    "plt.ylabel('Monthly Charges')\n",
    "plt.show()"
   ]
  },
  {
   "cell_type": "markdown",
   "metadata": {},
   "source": [
    "***\n",
    "\n",
    "### Looking at Churn by type of Contract\n",
    "As can be seen in the graphs below, customers with month-to-month contracts are significantly more likely to churn compared to customers with one or two year contracts. \n",
    "\n",
    "Even when someone has been with the company for a long time, their relative percentages on a month-to-month contract are still higher than those on a one-year or two-year contract that has just started.\n",
    "\n",
    "::: {layout-ncol=3 .column-screen-inset}"
   ]
  },
  {
   "cell_type": "code",
   "execution_count": null,
   "metadata": {},
   "outputs": [],
   "source": [
    "def plot_churn_by_tenure(data, contract_type):\n",
    "    # Create the bins\n",
    "    bins = np.arange(0, data['tenure'].max() + 2, 2)  # +2 to include the last value\n",
    "    data['tenure_bin'] = pd.cut(data['tenure'], bins=bins)\n",
    "    \n",
    "    # Calculate percentage of churned customers in each bin\n",
    "    churn_by_tenure = (data.groupby('tenure_bin')['Churn']\n",
    "                          .value_counts(normalize=True)\n",
    "                          .unstack())\n",
    "    \n",
    "    plt.figure(figsize=(12, 8))\n",
    "    churn_by_tenure['Yes'].multiply(100).plot(kind='bar')\n",
    "    plt.title(f'Percentage of Churned Customers by Tenure Length\\n{contract_type} Contracts')\n",
    "    plt.xlabel('Tenure (months)')\n",
    "    plt.ylabel('Churn Percentage')\n",
    "    plt.axhline(y=50, color='r', linestyle='--', alpha=0.3)\n",
    "    plt.grid(True, alpha=0.3)\n",
    "    plt.xticks(rotation=45)\n",
    "    plt.tight_layout()\n",
    "    plt.show()\n",
    "    \n",
    "    # Print statistics\n",
    "    # print(f\"\\nChurn percentage by tenure bins for {contract_type} contracts:\")\n",
    "    # print(churn_by_tenure['Yes'].multiply(100).round(1))\n",
    "\n",
    "# Create three dataframes\n",
    "monthly = df[df['Contract'] == 'Month-to-month']\n",
    "one_year = df[df['Contract'] == 'One year']\n",
    "two_year = df[df['Contract'] == 'Two year']"
   ]
  },
  {
   "cell_type": "code",
   "execution_count": null,
   "metadata": {},
   "outputs": [],
   "source": [
    "plot_churn_by_tenure(monthly, 'Month-to-month')"
   ]
  },
  {
   "cell_type": "code",
   "execution_count": null,
   "metadata": {},
   "outputs": [],
   "source": [
    "plot_churn_by_tenure(one_year, 'One year')"
   ]
  },
  {
   "cell_type": "code",
   "execution_count": null,
   "metadata": {},
   "outputs": [],
   "source": [
    "plot_churn_by_tenure(two_year, 'Two year')  "
   ]
  },
  {
   "cell_type": "markdown",
   "metadata": {},
   "source": [
    ":::\n",
    "\n",
    "\n",
    "***\n",
    "\n",
    "# Recommendations\n",
    "\n",
    "Based on our analysis, we have identified a few key areas that are driving churn:\n",
    "\n",
    "- **Tenure**: Customers who have been with the company for a short period of time are more likely to churn\n",
    "- **Monthly Charges**: Customers with higher monthly charges are more likely to churn\n",
    "- **Contract Type**: Customers with month-to-month contracts are significantly more likely to churn\n",
    "\n",
    "To reduce churn, we recommend the following:\n",
    "\n",
    "- **Promote longer contracts**: Encourage customers to sign up for longer contracts by offering discounts or other incentives\n",
    "- **Reduce monthly charges**: Consider offering lower-priced plans to customers who are at risk of churning\n",
    "- **Improve customer service**: Provide better customer service to customers who are at risk of churning to increase customer satisfaction. Spend more time with customers early on to help them understand the value of the service.\n",
    "\n",
    "Next steps from Alpha Consulting:\n",
    "\n",
    "- **Predictive modeling**: Build a predictive model to identify customers who are at risk of churning. This will allow us to take proactive steps to retain these customers.\n",
    "\n",
    "::: {.content-hidden}\n",
    "## Model building"
   ]
  },
  {
   "cell_type": "code",
   "execution_count": null,
   "metadata": {},
   "outputs": [],
   "source": [
    "# Prep data\n",
    "\n",
    "# Convert columns to binary and create new lowercase columns\n",
    "df['gender_male'] = (df.gender=='Male')\n",
    "df['senior_citizen'] = (df.SeniorCitizen==1)\n",
    "df['partner'] = (df.Partner=='Yes')\n",
    "df['dependents'] = (df.Dependents=='Yes')\n",
    "df['phone_service'] = (df.PhoneService=='Yes')\n",
    "df['multiple_lines'] = (df.MultipleLines=='Yes')\n",
    "df['single_line'] = (df.MultipleLines=='No')\n",
    "\n",
    "df['fiber_optic'] = (df.InternetService=='Fiber optic')\n",
    "df['dsl'] = (df.InternetService=='DSL')\n",
    "\n",
    "df['online_security'] = (df.OnlineSecurity=='Yes')\n",
    "df['online_backup'] = (df.OnlineBackup=='Yes')\n",
    "df['device_protection'] = (df.DeviceProtection=='Yes')\n",
    "df['tech_support'] = (df.TechSupport=='Yes')\n",
    "df['streaming_tv'] = (df.StreamingTV=='Yes')\n",
    "df['streaming_movies'] = (df.StreamingMovies=='Yes')\n",
    "\n",
    "df['month_to_month'] = (df.Contract=='Month-to-month')\n",
    "df['one_year'] = (df.Contract=='One year')\n",
    "df['two_year'] = (df.Contract=='Two year')\n",
    "\n",
    "df['paperless_billing'] = (df.PaperlessBilling=='Yes')\n",
    "df['electronic_check'] = (df.PaymentMethod=='Electronic check')\n",
    "df['mailed_check'] = (df.PaymentMethod=='Mailed check')\n",
    "df['bank_transfer'] = (df.PaymentMethod=='Bank transfer (automatic)')\n",
    "df['credit_card'] = (df.PaymentMethod=='Credit card (automatic)')\n",
    "\n",
    "df[\"total_charges\"] = pd.to_numeric(df.TotalCharges, errors='coerce').fillna(0)\n",
    "df['monthly_charges'] = df.MonthlyCharges\n",
    "df['tenure'] = df.tenure\n",
    "\n",
    "df['churn'] = (df.Churn=='Yes')\n",
    "\n",
    "# Drop all original columns\n",
    "columns_to_drop = ['customerID', 'gender', 'SeniorCitizen', 'Partner', 'Dependents',\n",
    "                  'PhoneService', 'MultipleLines', 'InternetService', 'OnlineSecurity',\n",
    "                  'OnlineBackup', 'DeviceProtection', 'TechSupport', 'StreamingTV',\n",
    "                  'StreamingMovies', 'Contract', 'PaperlessBilling', 'PaymentMethod',\n",
    "                  'TotalCharges', 'MonthlyCharges', 'Churn']\n",
    "\n",
    "df.drop(columns=columns_to_drop, inplace=True)"
   ]
  },
  {
   "cell_type": "code",
   "execution_count": null,
   "metadata": {},
   "outputs": [],
   "source": [
    "df.head()"
   ]
  },
  {
   "cell_type": "code",
   "execution_count": null,
   "metadata": {},
   "outputs": [],
   "source": [
    "df.info()"
   ]
  },
  {
   "cell_type": "markdown",
   "metadata": {},
   "source": [
    "### Standardize numerical columns"
   ]
  },
  {
   "cell_type": "code",
   "execution_count": null,
   "metadata": {},
   "outputs": [],
   "source": [
    "from sklearn.preprocessing import StandardScaler, MinMaxScaler\n",
    "\n",
    "# Create a StandardScaler instance\n",
    "scaler = StandardScaler()\n",
    "\n",
    "# Select the columns to standardize\n",
    "columns_to_scale = ['tenure', 'monthly_charges', 'total_charges']\n",
    "\n",
    "# Apply scaling to the selected columns\n",
    "df[columns_to_scale] = scaler.fit_transform(df[columns_to_scale])"
   ]
  },
  {
   "cell_type": "code",
   "execution_count": null,
   "metadata": {},
   "outputs": [],
   "source": [
    "from sklearn.model_selection import train_test_split\n",
    "from sklearn.linear_model import LogisticRegression\n",
    "from sklearn.metrics import classification_report, confusion_matrix\n",
    "from sklearn.ensemble import RandomForestClassifier\n",
    "from xgboost import XGBClassifier\n",
    "from imblearn.over_sampling import SMOTE\n",
    "\n",
    "# Define features and target variable\n",
    "X = df.drop(columns=['churn'])\n",
    "# X = df.drop(columns=['churn'])\n",
    "\n",
    "y = df['churn']\n",
    "\n",
    "# Split the data into training and testing sets\n",
    "X_train, X_test, y_train, y_test = train_test_split(X, y, test_size=0.2, random_state=42)\n",
    "\n",
    "## Balance the training data (roughly equal number of churned and non-churned customers)\n",
    "smote = SMOTE(random_state=42)\n",
    "X_resampled, y_resampled = smote.fit_resample(X_train, y_train)\n",
    "\n",
    "# Create and train the logistic regression model\n",
    "model = LogisticRegression(max_iter=5000)\n",
    "# model = XGBClassifier(learning_rate=0.01,max_depth = 3,n_estimators = 1000)\n",
    "# model = RandomForestClassifier(max_depth=8, n_estimators=200, random_state=42)\n",
    "model.fit(X_resampled, y_resampled)\n",
    "\n",
    "# Make predictions\n",
    "y_pred_orig = model.predict(X_test)\n",
    "y_pred = model.predict_proba(X_test)\n",
    "\n",
    "# Play around with the ROC threshold\n",
    "y_pred = np.where(y_pred[:,0] < 0.70, 1, 0)\n",
    "\n",
    "print(y_pred_orig[0:10])\n",
    "\n",
    "# Evaluate the model\n",
    "print(confusion_matrix(y_test, y_pred))\n",
    "print(classification_report(y_test, y_pred))"
   ]
  },
  {
   "cell_type": "markdown",
   "metadata": {},
   "source": [
    ":::\n"
   ]
  }
 ],
 "metadata": {
  "kernelspec": {
   "display_name": "quarto",
   "language": "python",
   "name": "python3"
  },
  "language_info": {
   "name": "python",
   "version": "3.13.0"
  }
 },
 "nbformat": 4,
 "nbformat_minor": 4
}
